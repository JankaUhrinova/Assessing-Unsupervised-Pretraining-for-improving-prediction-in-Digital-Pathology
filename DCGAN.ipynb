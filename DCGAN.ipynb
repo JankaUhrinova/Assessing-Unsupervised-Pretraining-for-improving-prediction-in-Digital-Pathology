{
  "nbformat": 4,
  "nbformat_minor": 0,
  "metadata": {
    "colab": {
      "provenance": [],
      "authorship_tag": "ABX9TyPvbBUrhmNymR936j0WFYU6",
      "include_colab_link": true
    },
    "kernelspec": {
      "name": "python3",
      "display_name": "Python 3"
    },
    "language_info": {
      "name": "python"
    },
    "accelerator": "GPU"
  },
  "cells": [
    {
      "cell_type": "markdown",
      "metadata": {
        "id": "view-in-github",
        "colab_type": "text"
      },
      "source": [
        "<a href=\"https://colab.research.google.com/github/JankaUhrinova/Assessing-Unsupervised-Pretraining-for-improving-prediction-in-Digital-Pathology/blob/main/DCGAN.ipynb\" target=\"_parent\"><img src=\"https://colab.research.google.com/assets/colab-badge.svg\" alt=\"Open In Colab\"/></a>"
      ]
    },
    {
      "cell_type": "code",
      "execution_count": 40,
      "metadata": {
        "colab": {
          "base_uri": "https://localhost:8080/"
        },
        "id": "uCH4UIM5Hf-B",
        "outputId": "6653a15d-ee51-41e9-ee65-fb8cc1694cae"
      },
      "outputs": [
        {
          "output_type": "stream",
          "name": "stdout",
          "text": [
            "Random Seed:  9457\n"
          ]
        },
        {
          "output_type": "execute_result",
          "data": {
            "text/plain": [
              "<torch._C.Generator at 0x7f6b0b829cf0>"
            ]
          },
          "metadata": {},
          "execution_count": 40
        }
      ],
      "source": [
        "from __future__ import print_function\n",
        "#%matplotlib inline\n",
        "import argparse\n",
        "import os\n",
        "import random\n",
        "import torch\n",
        "import torch.nn as nn\n",
        "import torch.nn.parallel\n",
        "import torch.backends.cudnn as cudnn\n",
        "import torch.optim as optim\n",
        "import torch.utils.data\n",
        "import torchvision.datasets as datasets\n",
        "import torchvision.transforms as transforms\n",
        "import torchvision.utils as vutils\n",
        "import numpy as np\n",
        "import matplotlib.pyplot as plt\n",
        "import matplotlib.animation as animation\n",
        "from IPython.display import HTML\n",
        "\n",
        "manualSeed = random.randint(1, 10000) # use if you want new results\n",
        "print(\"Random Seed: \", manualSeed)\n",
        "random.seed(manualSeed)\n",
        "torch.manual_seed(manualSeed)"
      ]
    },
    {
      "cell_type": "code",
      "source": [
        "device = \"cuda\" if torch.cuda.is_available() else \"cpu\"\n",
        "print(f\"Using {device} device\")"
      ],
      "metadata": {
        "colab": {
          "base_uri": "https://localhost:8080/"
        },
        "id": "voAeXyz0IIGE",
        "outputId": "97c496f3-df14-4add-cfe1-5e94db26bf7a"
      },
      "execution_count": 41,
      "outputs": [
        {
          "output_type": "stream",
          "name": "stdout",
          "text": [
            "Using cuda device\n"
          ]
        }
      ]
    },
    {
      "cell_type": "code",
      "source": [
        "dataroot = \"data/MNIST\"\n",
        "\n",
        "# Number of workers for dataloader\n",
        "workers = 1\n",
        "\n",
        "# Batch size during training\n",
        "batch_size = 32\n",
        "\n",
        "# Spatial size of training images. All images will be resized to this\n",
        "#   size using a transformer.\n",
        "image_size = 28\n",
        "\n",
        "# Number of channels in the training images. For color images this is 3\n",
        "nc = 1\n",
        "\n",
        "# Size of z latent vector (i.e. size of generator input)\n",
        "nz = 100\n",
        "\n",
        "# Size of feature maps in generator\n",
        "ngf = 32\n",
        "\n",
        "# Size of feature maps in discriminator\n",
        "ndf = 32\n",
        "\n",
        "# Number of training epochs\n",
        "num_epochs = 2\n",
        "\n",
        "# Learning rate for optimizers\n",
        "lr = 1e-1\n",
        "\n",
        "# Beta1 hyperparam for Adam optimizers\n",
        "beta1 = 0.5\n",
        "\n",
        "# Number of GPUs available. Use 0 for CPU mode.\n",
        "ngpu = 1"
      ],
      "metadata": {
        "id": "62X2_Gw8V8JU"
      },
      "execution_count": 42,
      "outputs": []
    },
    {
      "cell_type": "code",
      "source": [
        "dataset = datasets.MNIST(root=\"data\",\n",
        "    train=True,\n",
        "    download=True,\n",
        "    transform=transforms.Compose([\n",
        "                               transforms.Resize(image_size),\n",
        "                               transforms.CenterCrop(image_size),\n",
        "                               transforms.ToTensor(),\n",
        "                               transforms.Normalize((0.5), (0.5)),\n",
        "                               ])\n",
        ")"
      ],
      "metadata": {
        "id": "W1nU3QgsJLoL"
      },
      "execution_count": 43,
      "outputs": []
    },
    {
      "cell_type": "code",
      "source": [
        "dataloader = torch.utils.data.DataLoader(dataset, batch_size=batch_size,\n",
        "                                         shuffle=True, num_workers=workers)\n"
      ],
      "metadata": {
        "id": "FM2QZLQWTc7I"
      },
      "execution_count": 44,
      "outputs": []
    },
    {
      "cell_type": "code",
      "source": [
        "labels_map = {\n",
        "    0: \"0\",\n",
        "    1: \"1\",\n",
        "    2: \"2\",\n",
        "    3: \"3\",\n",
        "    4: \"4\",\n",
        "    5: \"5\",\n",
        "    6: \"6\",\n",
        "    7: \"7\",\n",
        "    8: \"8\",\n",
        "    9: \"9\",\n",
        "}\n",
        "figure = plt.figure(figsize=(8, 8))\n",
        "cols, rows = 3, 3\n",
        "for i in range(1, cols * rows + 1):\n",
        "    sample_idx = torch.randint(len(dataset), size=(1,)).item()\n",
        "    img, label = dataset[sample_idx]\n",
        "    figure.add_subplot(rows, cols, i)\n",
        "    plt.title(labels_map[label])\n",
        "    plt.axis(\"off\")\n",
        "    plt.imshow(img.squeeze(), cmap=\"gray\")\n",
        "plt.show()"
      ],
      "metadata": {
        "colab": {
          "base_uri": "https://localhost:8080/",
          "height": 482
        },
        "id": "zUwBKJHIUw7I",
        "outputId": "0d2dc247-d1c3-4bdc-a6e5-34709c6d48e0"
      },
      "execution_count": 45,
      "outputs": [
        {
          "output_type": "display_data",
          "data": {
            "text/plain": [
              "<Figure size 576x576 with 9 Axes>"
            ],
            "image/png": "[encoded data removed]"
          },
          "metadata": {
            "needs_background": "light"
          }
        }
      ]
    },
    {
      "cell_type": "code",
      "source": [
        "# custom weights initialization called on netG and netD\n",
        "def weights_init(m):\n",
        "    classname = m.__class__.__name__\n",
        "    if classname.find('Conv') != -1:\n",
        "        nn.init.normal_(m.weight.data, 0.0, 0.02)\n",
        "    elif classname.find('BatchNorm') != -1:\n",
        "        nn.init.normal_(m.weight.data, 1.0, 0.02)\n",
        "        nn.init.constant_(m.bias.data, 0)"
      ],
      "metadata": {
        "id": "b2joks7aX4mz"
      },
      "execution_count": 46,
      "outputs": []
    },
    {
      "cell_type": "code",
      "source": [
        "# Generator Code\n",
        "\n",
        "class Generator(nn.Module):\n",
        "    def __init__(self, ngpu):\n",
        "        super(Generator, self).__init__()\n",
        "        self.ngpu = ngpu\n",
        "        self.main = nn.Sequential(\n",
        "            # input is Z, going into a convolution\n",
        "            nn.ConvTranspose2d( nz, ngf * 8, 4, 2, 0, bias=False),\n",
        "            nn.BatchNorm2d(ngf * 8),\n",
        "            nn.ReLU(True),\n",
        "            nn.ConvTranspose2d(ngf * 8, ngf * 4, 4, 2, 1, bias=False),\n",
        "            nn.BatchNorm2d(ngf * 4),\n",
        "            nn.ReLU(True),\n",
        "            nn.ConvTranspose2d( ngf * 4, ngf * 2, 3, 2, 2, bias=False),\n",
        "            nn.BatchNorm2d(ngf * 2),\n",
        "            nn.ReLU(True),\n",
        "            nn.ConvTranspose2d( ngf * 2, nc, 3, 2, 1, output_padding = 1, bias=False),\n",
        "            # state size. (ngf) x 28 x 28\n",
        "            nn.Tanh()\n",
        "            \n",
        "        )\n",
        "\n",
        "    def forward(self, input):\n",
        "        return self.main(input)"
      ],
      "metadata": {
        "id": "yqkrIQZcyAaz"
      },
      "execution_count": 47,
      "outputs": []
    },
    {
      "cell_type": "code",
      "source": [
        "# Create the generator\n",
        "netG = Generator(ngpu).to(device)\n",
        "\n",
        "# Handle multi-gpu if desired\n",
        "if (device == 'cuda') and (ngpu > 1):\n",
        "    netG = nn.DataParallel(netG, list(range(ngpu)))\n",
        "\n",
        "# Apply the weights_init function to randomly initialize all weights\n",
        "#  to mean=0, stdev=0.02.\n",
        "netG.apply(weights_init)\n",
        "\n",
        "# Print the model\n",
        "print(netG)"
      ],
      "metadata": {
        "colab": {
          "base_uri": "https://localhost:8080/"
        },
        "id": "wRoaLkSC2-Fl",
        "outputId": "3bf8f154-8ce1-4cf8-c051-80926a7c93ed"
      },
      "execution_count": 48,
      "outputs": [
        {
          "output_type": "stream",
          "name": "stdout",
          "text": [
            "Generator(\n",
            "  (main): Sequential(\n",
            "    (0): ConvTranspose2d(100, 256, kernel_size=(4, 4), stride=(2, 2), bias=False)\n",
            "    (1): BatchNorm2d(256, eps=1e-05, momentum=0.1, affine=True, track_running_stats=True)\n",
            "    (2): ReLU(inplace=True)\n",
            "    (3): ConvTranspose2d(256, 128, kernel_size=(4, 4), stride=(2, 2), padding=(1, 1), bias=False)\n",
            "    (4): BatchNorm2d(128, eps=1e-05, momentum=0.1, affine=True, track_running_stats=True)\n",
            "    (5): ReLU(inplace=True)\n",
            "    (6): ConvTranspose2d(128, 64, kernel_size=(3, 3), stride=(2, 2), padding=(2, 2), bias=False)\n",
            "    (7): BatchNorm2d(64, eps=1e-05, momentum=0.1, affine=True, track_running_stats=True)\n",
            "    (8): ReLU(inplace=True)\n",
            "    (9): ConvTranspose2d(64, 1, kernel_size=(3, 3), stride=(2, 2), padding=(1, 1), output_padding=(1, 1), bias=False)\n",
            "    (10): Tanh()\n",
            "  )\n",
            ")\n"
          ]
        }
      ]
    },
    {
      "cell_type": "code",
      "source": [
        "class Discriminator(nn.Module):\n",
        "    def __init__(self, ngpu):\n",
        "        super(Discriminator, self).__init__()\n",
        "        self.ngpu = ngpu\n",
        "        self.main = nn.Sequential(\n",
        "            nn.Conv2d(nc, ndf, 3, 2, 1, bias=False),\n",
        "            nn.LeakyReLU(0.2, inplace=True),\n",
        "\n",
        "            nn.Conv2d(ndf, ndf * 2, 3, 2, 2, bias=False),\n",
        "            nn.BatchNorm2d(ndf * 2),\n",
        "            nn.LeakyReLU(0.2, inplace=True),\n",
        "\n",
        "            nn.Conv2d(ndf * 2, ndf * 4, 4, 2, 1, bias=False),\n",
        "            nn.BatchNorm2d(ndf * 4),\n",
        "            nn.LeakyReLU(0.2, inplace=True),\n",
        "\n",
        "            nn.Conv2d(ndf * 4, 1, 4, 1, 0, bias=False),\n",
        "            nn.Sigmoid()\n",
        "        )\n",
        "\n",
        "    def forward(self, input):\n",
        "        return self.main(input)"
      ],
      "metadata": {
        "id": "kBjUqMp33IIr"
      },
      "execution_count": 49,
      "outputs": []
    },
    {
      "cell_type": "code",
      "source": [
        "# Create the Discriminator\n",
        "netD = Discriminator(ngpu).to(device)\n",
        "\n",
        "# Handle multi-gpu if desired\n",
        "if (device == 'cuda') and (ngpu > 1):\n",
        "    netD = nn.DataParallel(netD, list(range(ngpu)))\n",
        "\n",
        "# Apply the weights_init function to randomly initialize all weights\n",
        "#  to mean=0, stdev=0.2.\n",
        "netD.apply(weights_init)\n",
        "\n",
        "# Print the model\n",
        "print(netD)"
      ],
      "metadata": {
        "colab": {
          "base_uri": "https://localhost:8080/"
        },
        "id": "9xUtqbi44ogW",
        "outputId": "b7125d8e-f8a7-4c9a-9dbd-4db0e07dba79"
      },
      "execution_count": 50,
      "outputs": [
        {
          "output_type": "stream",
          "name": "stdout",
          "text": [
            "Discriminator(\n",
            "  (main): Sequential(\n",
            "    (0): Conv2d(1, 32, kernel_size=(3, 3), stride=(2, 2), padding=(1, 1), bias=False)\n",
            "    (1): LeakyReLU(negative_slope=0.2, inplace=True)\n",
            "    (2): Conv2d(32, 64, kernel_size=(3, 3), stride=(2, 2), padding=(2, 2), bias=False)\n",
            "    (3): BatchNorm2d(64, eps=1e-05, momentum=0.1, affine=True, track_running_stats=True)\n",
            "    (4): LeakyReLU(negative_slope=0.2, inplace=True)\n",
            "    (5): Conv2d(64, 128, kernel_size=(4, 4), stride=(2, 2), padding=(1, 1), bias=False)\n",
            "    (6): BatchNorm2d(128, eps=1e-05, momentum=0.1, affine=True, track_running_stats=True)\n",
            "    (7): LeakyReLU(negative_slope=0.2, inplace=True)\n",
            "    (8): Conv2d(128, 1, kernel_size=(4, 4), stride=(1, 1), bias=False)\n",
            "    (9): Sigmoid()\n",
            "  )\n",
            ")\n"
          ]
        }
      ]
    },
    {
      "cell_type": "code",
      "source": [
        "# Initialize BCELoss function\n",
        "criterion = nn.BCELoss()\n",
        "\n",
        "# Create batch of latent vectors that we will use to visualize\n",
        "#  the progression of the generator\n",
        "fixed_noise = torch.randn(28, nz, 1, 1, device=device)\n",
        "\n",
        "# Establish convention for real and fake labels during training\n",
        "real_label = 1.\n",
        "fake_label = 0.\n",
        "\n",
        "# Setup Adam optimizers for both G and D\n",
        "optimizerD = optim.Adam(netD.parameters(), lr=lr, betas=(beta1, 0.999))\n",
        "optimizerG = optim.Adam(netG.parameters(), lr=lr, betas=(beta1, 0.999))"
      ],
      "metadata": {
        "id": "hDsN8oC14uXb"
      },
      "execution_count": 51,
      "outputs": []
    },
    {
      "cell_type": "code",
      "source": [
        "# Training Loop\n",
        "\n",
        "# Lists to keep track of progress\n",
        "img_list = []\n",
        "G_losses = []\n",
        "D_losses = []\n",
        "iters = 0\n",
        "\n",
        "print(\"Starting Training Loop...\")\n",
        "# For each epoch\n",
        "for epoch in range(num_epochs):\n",
        "    # For each batch in the dataloader\n",
        "    for i, data in enumerate(dataloader, 0):\n",
        "\n",
        "        ############################\n",
        "        # (1) Update D network: maximize log(D(x)) + log(1 - D(G(z)))\n",
        "        ###########################\n",
        "        ## Train with all-real batch\n",
        "        netD.zero_grad()\n",
        "        # Format batch\n",
        "        real_cpu = data[0].to(device)\n",
        "        b_size = real_cpu.size(0)\n",
        "        label = torch.full((b_size,), real_label, dtype=torch.float, device=device)\n",
        "        # Forward pass real batch through D\n",
        "        output = netD(real_cpu).view(-1)\n",
        "        #print(output.size(), label.size())\n",
        "        # Calculate loss on all-real batch\n",
        "        errD_real = criterion(output, label)\n",
        "        # Calculate gradients for D in backward pass\n",
        "        errD_real.backward()\n",
        "        D_x = output.mean().item()\n",
        "\n",
        "        ## Train with all-fake batch\n",
        "        # Generate batch of latent vectors\n",
        "        noise = torch.randn(b_size, nz, 1, 1, device=device)\n",
        "        # Generate fake image batch with G\n",
        "        fake = netG(noise)\n",
        "        #print(fake.size())\n",
        "        label.fill_(fake_label)\n",
        "        # Classify all fake batch with D\n",
        "        output = netD(fake.detach()).view(-1)\n",
        "        # Calculate D's loss on the all-fake batch\n",
        "        errD_fake = criterion(output, label)\n",
        "        # Calculate the gradients for this batch, accumulated (summed) with previous gradients\n",
        "        errD_fake.backward()\n",
        "        D_G_z1 = output.mean().item()\n",
        "        # Compute error of D as sum over the fake and the real batches\n",
        "        errD = errD_real + errD_fake\n",
        "        # Update D\n",
        "        optimizerD.step()\n",
        "\n",
        "        ############################\n",
        "        # (2) Update G network: maximize log(D(G(z)))\n",
        "        ###########################\n",
        "        netG.zero_grad()\n",
        "        label.fill_(real_label)  # fake labels are real for generator cost\n",
        "        # Since we just updated D, perform another forward pass of all-fake batch through D\n",
        "        output = netD(fake).view(-1)\n",
        "        # Calculate G's loss based on this output\n",
        "        errG = criterion(output, label)\n",
        "        # Calculate gradients for G\n",
        "        errG.backward()\n",
        "        D_G_z2 = output.mean().item()\n",
        "        # Update G\n",
        "        optimizerG.step()\n",
        "\n",
        "        # Output training stats\n",
        "        if i % 50 == 0:\n",
        "            print('[%d/%d][%d/%d]\\tLoss_D: %.4f\\tLoss_G: %.4f\\tD(x): %.4f\\tD(G(z)): %.4f / %.4f'\n",
        "                  % (epoch, num_epochs, i, len(dataloader),\n",
        "                     errD.item(), errG.item(), D_x, D_G_z1, D_G_z2))\n",
        "\n",
        "        # Save Losses for plotting later\n",
        "        G_losses.append(errG.item())\n",
        "        D_losses.append(errD.item())\n",
        "\n",
        "        # Check how the generator is doing by saving G's output on fixed_noise\n",
        "        if (iters % 500 == 0) or ((epoch == num_epochs-1) and (i == len(dataloader)-1)):\n",
        "            with torch.no_grad():\n",
        "                fake = netG(fixed_noise).detach().cpu()\n",
        "            img_list.append(vutils.make_grid(fake, padding=2, normalize=True))\n",
        "\n",
        "        iters += 1"
      ],
      "metadata": {
        "colab": {
          "base_uri": "https://localhost:8080/"
        },
        "id": "1UqQ9WyU6cvv",
        "outputId": "3264906b-f24e-4638-c533-0222df70e2fd"
      },
      "execution_count": 52,
      "outputs": [
        {
          "output_type": "stream",
          "name": "stdout",
          "text": [
            "Starting Training Loop...\n",
            "[0/2][0/1875]\tLoss_D: 1.3600\tLoss_G: 20.9710\tD(x): 0.6210\tD(G(z)): 0.5646 / 0.0000\n",
            "[0/2][50/1875]\tLoss_D: 100.0000\tLoss_G: 0.0000\tD(x): 1.0000\tD(G(z)): 1.0000 / 1.0000\n",
            "[0/2][100/1875]\tLoss_D: 100.0000\tLoss_G: 0.0000\tD(x): 1.0000\tD(G(z)): 1.0000 / 1.0000\n",
            "[0/2][150/1875]\tLoss_D: 100.0000\tLoss_G: 0.0000\tD(x): 1.0000\tD(G(z)): 1.0000 / 1.0000\n",
            "[0/2][200/1875]\tLoss_D: 100.0000\tLoss_G: 0.0000\tD(x): 1.0000\tD(G(z)): 1.0000 / 1.0000\n",
            "[0/2][250/1875]\tLoss_D: 100.0000\tLoss_G: 0.0000\tD(x): 1.0000\tD(G(z)): 1.0000 / 1.0000\n",
            "[0/2][300/1875]\tLoss_D: 100.0000\tLoss_G: 0.0000\tD(x): 1.0000\tD(G(z)): 1.0000 / 1.0000\n",
            "[0/2][350/1875]\tLoss_D: 100.0000\tLoss_G: 0.0000\tD(x): 1.0000\tD(G(z)): 1.0000 / 1.0000\n",
            "[0/2][400/1875]\tLoss_D: 100.0000\tLoss_G: 0.0000\tD(x): 1.0000\tD(G(z)): 1.0000 / 1.0000\n",
            "[0/2][450/1875]\tLoss_D: 100.0000\tLoss_G: 0.0000\tD(x): 1.0000\tD(G(z)): 1.0000 / 1.0000\n",
            "[0/2][500/1875]\tLoss_D: 100.0000\tLoss_G: 0.0000\tD(x): 1.0000\tD(G(z)): 1.0000 / 1.0000\n",
            "[0/2][550/1875]\tLoss_D: 100.0000\tLoss_G: 0.0000\tD(x): 1.0000\tD(G(z)): 1.0000 / 1.0000\n",
            "[0/2][600/1875]\tLoss_D: 100.0000\tLoss_G: 0.0000\tD(x): 1.0000\tD(G(z)): 1.0000 / 1.0000\n",
            "[0/2][650/1875]\tLoss_D: 100.0000\tLoss_G: 0.0000\tD(x): 1.0000\tD(G(z)): 1.0000 / 1.0000\n",
            "[0/2][700/1875]\tLoss_D: 100.0000\tLoss_G: 0.0000\tD(x): 1.0000\tD(G(z)): 1.0000 / 1.0000\n",
            "[0/2][750/1875]\tLoss_D: 100.0000\tLoss_G: 0.0000\tD(x): 1.0000\tD(G(z)): 1.0000 / 1.0000\n",
            "[0/2][800/1875]\tLoss_D: 100.0000\tLoss_G: 0.0000\tD(x): 1.0000\tD(G(z)): 1.0000 / 1.0000\n",
            "[0/2][850/1875]\tLoss_D: 100.0000\tLoss_G: 0.0000\tD(x): 1.0000\tD(G(z)): 1.0000 / 1.0000\n",
            "[0/2][900/1875]\tLoss_D: 100.0000\tLoss_G: 0.0000\tD(x): 1.0000\tD(G(z)): 1.0000 / 1.0000\n",
            "[0/2][950/1875]\tLoss_D: 100.0000\tLoss_G: 0.0000\tD(x): 1.0000\tD(G(z)): 1.0000 / 1.0000\n",
            "[0/2][1000/1875]\tLoss_D: 100.0000\tLoss_G: 0.0000\tD(x): 1.0000\tD(G(z)): 1.0000 / 1.0000\n",
            "[0/2][1050/1875]\tLoss_D: 100.0000\tLoss_G: 0.0000\tD(x): 1.0000\tD(G(z)): 1.0000 / 1.0000\n",
            "[0/2][1100/1875]\tLoss_D: 100.0000\tLoss_G: 0.0000\tD(x): 1.0000\tD(G(z)): 1.0000 / 1.0000\n",
            "[0/2][1150/1875]\tLoss_D: 100.0000\tLoss_G: 0.0000\tD(x): 1.0000\tD(G(z)): 1.0000 / 1.0000\n",
            "[0/2][1200/1875]\tLoss_D: 100.0000\tLoss_G: 0.0000\tD(x): 1.0000\tD(G(z)): 1.0000 / 1.0000\n",
            "[0/2][1250/1875]\tLoss_D: 100.0000\tLoss_G: 0.0000\tD(x): 1.0000\tD(G(z)): 1.0000 / 1.0000\n",
            "[0/2][1300/1875]\tLoss_D: 100.0000\tLoss_G: 0.0000\tD(x): 1.0000\tD(G(z)): 1.0000 / 1.0000\n",
            "[0/2][1350/1875]\tLoss_D: 100.0000\tLoss_G: 0.0000\tD(x): 1.0000\tD(G(z)): 1.0000 / 1.0000\n",
            "[0/2][1400/1875]\tLoss_D: 100.0000\tLoss_G: 0.0000\tD(x): 1.0000\tD(G(z)): 1.0000 / 1.0000\n",
            "[0/2][1450/1875]\tLoss_D: 100.0000\tLoss_G: 0.0000\tD(x): 1.0000\tD(G(z)): 1.0000 / 1.0000\n",
            "[0/2][1500/1875]\tLoss_D: 100.0000\tLoss_G: 0.0000\tD(x): 1.0000\tD(G(z)): 1.0000 / 1.0000\n",
            "[0/2][1550/1875]\tLoss_D: 100.0000\tLoss_G: 0.0000\tD(x): 1.0000\tD(G(z)): 1.0000 / 1.0000\n",
            "[0/2][1600/1875]\tLoss_D: 100.0000\tLoss_G: 0.0000\tD(x): 1.0000\tD(G(z)): 1.0000 / 1.0000\n",
            "[0/2][1650/1875]\tLoss_D: 100.0000\tLoss_G: 0.0000\tD(x): 1.0000\tD(G(z)): 1.0000 / 1.0000\n",
            "[0/2][1700/1875]\tLoss_D: 100.0000\tLoss_G: 0.0000\tD(x): 1.0000\tD(G(z)): 1.0000 / 1.0000\n",
            "[0/2][1750/1875]\tLoss_D: 100.0000\tLoss_G: 0.0000\tD(x): 1.0000\tD(G(z)): 1.0000 / 1.0000\n",
            "[0/2][1800/1875]\tLoss_D: 100.0000\tLoss_G: 0.0000\tD(x): 1.0000\tD(G(z)): 1.0000 / 1.0000\n",
            "[0/2][1850/1875]\tLoss_D: 100.0000\tLoss_G: 0.0000\tD(x): 1.0000\tD(G(z)): 1.0000 / 1.0000\n",
            "[1/2][0/1875]\tLoss_D: 100.0000\tLoss_G: 0.0000\tD(x): 1.0000\tD(G(z)): 1.0000 / 1.0000\n",
            "[1/2][50/1875]\tLoss_D: 100.0000\tLoss_G: 0.0000\tD(x): 1.0000\tD(G(z)): 1.0000 / 1.0000\n",
            "[1/2][100/1875]\tLoss_D: 100.0000\tLoss_G: 0.0000\tD(x): 1.0000\tD(G(z)): 1.0000 / 1.0000\n",
            "[1/2][150/1875]\tLoss_D: 100.0000\tLoss_G: 0.0000\tD(x): 1.0000\tD(G(z)): 1.0000 / 1.0000\n",
            "[1/2][200/1875]\tLoss_D: 100.0000\tLoss_G: 0.0000\tD(x): 1.0000\tD(G(z)): 1.0000 / 1.0000\n",
            "[1/2][250/1875]\tLoss_D: 100.0000\tLoss_G: 0.0000\tD(x): 1.0000\tD(G(z)): 1.0000 / 1.0000\n",
            "[1/2][300/1875]\tLoss_D: 100.0000\tLoss_G: 0.0000\tD(x): 1.0000\tD(G(z)): 1.0000 / 1.0000\n",
            "[1/2][350/1875]\tLoss_D: 100.0000\tLoss_G: 0.0000\tD(x): 1.0000\tD(G(z)): 1.0000 / 1.0000\n",
            "[1/2][400/1875]\tLoss_D: 100.0000\tLoss_G: 0.0000\tD(x): 1.0000\tD(G(z)): 1.0000 / 1.0000\n",
            "[1/2][450/1875]\tLoss_D: 100.0000\tLoss_G: 0.0000\tD(x): 1.0000\tD(G(z)): 1.0000 / 1.0000\n",
            "[1/2][500/1875]\tLoss_D: 100.0000\tLoss_G: 0.0000\tD(x): 1.0000\tD(G(z)): 1.0000 / 1.0000\n",
            "[1/2][550/1875]\tLoss_D: 100.0000\tLoss_G: 0.0000\tD(x): 1.0000\tD(G(z)): 1.0000 / 1.0000\n",
            "[1/2][600/1875]\tLoss_D: 100.0000\tLoss_G: 0.0000\tD(x): 1.0000\tD(G(z)): 1.0000 / 1.0000\n",
            "[1/2][650/1875]\tLoss_D: 100.0000\tLoss_G: 0.0000\tD(x): 1.0000\tD(G(z)): 1.0000 / 1.0000\n",
            "[1/2][700/1875]\tLoss_D: 100.0000\tLoss_G: 0.0000\tD(x): 1.0000\tD(G(z)): 1.0000 / 1.0000\n",
            "[1/2][750/1875]\tLoss_D: 100.0000\tLoss_G: 0.0000\tD(x): 1.0000\tD(G(z)): 1.0000 / 1.0000\n",
            "[1/2][800/1875]\tLoss_D: 100.0000\tLoss_G: 0.0000\tD(x): 1.0000\tD(G(z)): 1.0000 / 1.0000\n",
            "[1/2][850/1875]\tLoss_D: 100.0000\tLoss_G: 0.0000\tD(x): 1.0000\tD(G(z)): 1.0000 / 1.0000\n",
            "[1/2][900/1875]\tLoss_D: 100.0000\tLoss_G: 0.0000\tD(x): 1.0000\tD(G(z)): 1.0000 / 1.0000\n",
            "[1/2][950/1875]\tLoss_D: 100.0000\tLoss_G: 0.0000\tD(x): 1.0000\tD(G(z)): 1.0000 / 1.0000\n",
            "[1/2][1000/1875]\tLoss_D: 100.0000\tLoss_G: 0.0000\tD(x): 1.0000\tD(G(z)): 1.0000 / 1.0000\n",
            "[1/2][1050/1875]\tLoss_D: 100.0000\tLoss_G: 0.0000\tD(x): 1.0000\tD(G(z)): 1.0000 / 1.0000\n",
            "[1/2][1100/1875]\tLoss_D: 100.0000\tLoss_G: 0.0000\tD(x): 1.0000\tD(G(z)): 1.0000 / 1.0000\n",
            "[1/2][1150/1875]\tLoss_D: 100.0000\tLoss_G: 0.0000\tD(x): 1.0000\tD(G(z)): 1.0000 / 1.0000\n",
            "[1/2][1200/1875]\tLoss_D: 100.0000\tLoss_G: 0.0000\tD(x): 1.0000\tD(G(z)): 1.0000 / 1.0000\n",
            "[1/2][1250/1875]\tLoss_D: 100.0000\tLoss_G: 0.0000\tD(x): 1.0000\tD(G(z)): 1.0000 / 1.0000\n",
            "[1/2][1300/1875]\tLoss_D: 100.0000\tLoss_G: 0.0000\tD(x): 1.0000\tD(G(z)): 1.0000 / 1.0000\n",
            "[1/2][1350/1875]\tLoss_D: 100.0000\tLoss_G: 0.0000\tD(x): 1.0000\tD(G(z)): 1.0000 / 1.0000\n",
            "[1/2][1400/1875]\tLoss_D: 100.0000\tLoss_G: 0.0000\tD(x): 1.0000\tD(G(z)): 1.0000 / 1.0000\n",
            "[1/2][1450/1875]\tLoss_D: 100.0000\tLoss_G: 0.0000\tD(x): 1.0000\tD(G(z)): 1.0000 / 1.0000\n",
            "[1/2][1500/1875]\tLoss_D: 100.0000\tLoss_G: 0.0000\tD(x): 1.0000\tD(G(z)): 1.0000 / 1.0000\n",
            "[1/2][1550/1875]\tLoss_D: 100.0000\tLoss_G: 0.0000\tD(x): 1.0000\tD(G(z)): 1.0000 / 1.0000\n",
            "[1/2][1600/1875]\tLoss_D: 100.0000\tLoss_G: 0.0000\tD(x): 1.0000\tD(G(z)): 1.0000 / 1.0000\n",
            "[1/2][1650/1875]\tLoss_D: 100.0000\tLoss_G: 0.0000\tD(x): 1.0000\tD(G(z)): 1.0000 / 1.0000\n",
            "[1/2][1700/1875]\tLoss_D: 100.0000\tLoss_G: 0.0000\tD(x): 1.0000\tD(G(z)): 1.0000 / 1.0000\n",
            "[1/2][1750/1875]\tLoss_D: 100.0000\tLoss_G: 0.0000\tD(x): 1.0000\tD(G(z)): 1.0000 / 1.0000\n",
            "[1/2][1800/1875]\tLoss_D: 100.0000\tLoss_G: 0.0000\tD(x): 1.0000\tD(G(z)): 1.0000 / 1.0000\n",
            "[1/2][1850/1875]\tLoss_D: 100.0000\tLoss_G: 0.0000\tD(x): 1.0000\tD(G(z)): 1.0000 / 1.0000\n"
          ]
        }
      ]
    },
    {
      "cell_type": "code",
      "source": [],
      "metadata": {
        "id": "XHEMiwOKBfgP"
      },
      "execution_count": 52,
      "outputs": []
    }
  ]
}